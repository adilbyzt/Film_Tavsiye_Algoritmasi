{
  "nbformat": 4,
  "nbformat_minor": 0,
  "metadata": {
    "colab": {
      "provenance": [],
      "collapsed_sections": []
    },
    "kernelspec": {
      "name": "python3",
      "display_name": "Python 3"
    },
    "language_info": {
      "name": "python"
    }
  },
  "cells": [
    {
      "cell_type": "markdown",
      "source": [
        "GELİŞTİRMELER--\n",
        "\n",
        "-İlk iyileştirme olarak, datasetimizdeki filmlerin clean kısmındaki kelimelerimizin büyük ve küçük harfler içerdiğini tespit ettim. Bu durum algoritmada 2 kelime aynı kelime olsa bile birisi büyük harfle başladığı için farklılığa sebep olabileceğinden dolayı bütün kelimeleri küçük harfe çevirerek daha doğru bir sonuç elde etmeye çalıştım.\n",
        "\n",
        "-1 ve 2 harfli kelimeleri stopwords saydığım için bu kelimeleri yok ettim. Kelimeleri yok etmemin sebebi 1 veya 2 harfli olan kelimelerin çok fazla ortak filmde çıkması ve bu kelimelerin ayırt edici bir özelliği olmadığıydı. Bu kelimeleri elekten geçirerek kelime havuzunu daha anlamlı hale getirmeye çalıştım.\n",
        "\n",
        "-Kod içerisinde doc frekanslarını sıralayarak incelediğimde bazı kelimelerin anlam ifade etmemesine rağmen çok fazla frekansa sahip olduğunu gördüm. Bu yüzden bir frekans eşiği koymaya karar verdim. Çok sayıda filmde ortak geçen kelimeler istediğimiz sonucu almamızda yanıltıcı oluyorlardı. En çok frekansa sahip olan kelimelerden bazıları şunlardı = film, olmak, ada, bir, ama, etmek, son, yaş, mak, mek, ken .Bu gibi kelimeler çok sayıda filmde geçiyor ve anlamsızlar. Verceğim eşik değerini belirlemek için her filmin clean datasına dahil ettiğimiz türlerin ne kadar frekansa sahip olduklarına bakarak karar verdim. Bakmış olduğum sonuçlara göre 5261 filmin bulunduğu datasetindeki tür frekansları büyükten küçüğe şu şekildeydi  \"dram\" -> 2353 , \"Komedi\" -> 1471,   Aksiyon -> 980 ve Macera -> 976 şeklindeydi. Bu sonuçları göz önünde bulundururak film sayısının yarısını eşik değeri olarak belirledim. Frekensı film sayısının yarısından büyük olan kelimeleri elekten geçirdim ve kelimelerin doc frekanslarını 0 a eşitledim.\n",
        "\n",
        "-Clean verilerimiz içerisine filmin adını ve yönetmenlerini de eklemenin benzer filmler çıkmasına katkıda bulunacağını düşünerek bu verileri de clean dataya eklemeye karar verdim. Ancak yönetmen isimlerinin ve soyisimlerinin bir kalıp olarak alınmasının daha doğru sonuçlar çıkaracağını düşündüm çünkü iki filmin yönetmeninin ismi veya soyismi aynı olursa bu filmlere algoritma benzer diyebilirdi. Bu yüzden yönetmenlerin ismini birleştirerek clean dataya eklemeyi tercih ettim. Örnek= Yönetmen ->joe russo, clean dataya eklendiği şekil ->joerusso . \n",
        "\n",
        "-Eski algoritmayı incelediğimde tf değeri için sadece kelimenin dökümanda geçme sayısı alınmış fakat yaptığım araştırmadan tf değerinin, kelimenin dökümanda geçme sayısı / dökümandaki toplam kelime sayısı formülüyle hesaplandığını gördüm. Bu yüzden for döngüsü kullanarak her bir filmin clean datasının içerisinde kaç kelime olduğunu hesapladım ve bunu bir liste olarak tuttum. Daha sonra tf i hesaplarken her filmin clean datasındaki toplam kelime sayısını bölen olarak kullandım. Tf i bu şekilde hesaplamazsak içerisinde fazla kelime olan clean daha büyük ihtimalle daha fazla önerilecektir. Fakat tf i hesaplarken o filmin clean datasındaki kelime sayısına bölersek daha adaletli bir tf değeri oluşturmuş olduğumuzu düşünüyorum.\n",
        "\n",
        "-İdf hesabının yapıldığı kısımda eklenmiş olan (+1) değerlerinin idf-tf değerini olumsuz etkilediğini düşündüm. Çünkü doc frekansı düşük olan veya 0 olan bir kelime geldiğinde biz bu kelimeye +1 ekleyerek idf değerini yükseltmiş oluyoruz. +1 değerlerini kaldırdığımda 0 gelen frekanslar olduğu için ZeroDivisionError hatası aldım. Bu yüzden bir try catch yapısı kullanarak catch kısmına düşüldüğünde idf değerini 0 a eşitleyerek bu sorunu giderdim.\n",
        "\n",
        "Özet: \n",
        "Bu geliştirmeleri yaptıktan sonra eski ve yeni algoritmaya aynı filmleri göndererek iki algoritma arasındaki farkı ölçmeye çalıştım. Yapmış olduğum testlerde yeni algoritmanın eski algoritmaya göre daha iyi sonuçlar verdiğini gözlemledim. Geliştirilmiş algoritmanın kötü yanıysa eski algoritmaya göre biraz daha yavaş çalışmasıydı. Bunun en büyük sebebi de iç içe for döngüsü kullanarak her filmdeki kelimeleri saydırmamdı. \n"
      ],
      "metadata": {
        "id": "f7is8etEcqIP"
      }
    },
    {
      "cell_type": "code",
      "execution_count": 103,
      "metadata": {
        "id": "9WU_a_btMOhu"
      },
      "outputs": [],
      "source": [
        "import pandas as pd\n",
        "import numpy as np\n",
        "import re "
      ]
    },
    {
      "cell_type": "code",
      "source": [
        "df_diskten = pd.read_excel(\"filmler_clean.xlsx\")"
      ],
      "metadata": {
        "id": "JOoekvHRMdnG"
      },
      "execution_count": 104,
      "outputs": []
    },
    {
      "cell_type": "code",
      "source": [
        "df_diskten.head()"
      ],
      "metadata": {
        "colab": {
          "base_uri": "https://localhost:8080/",
          "height": 354
        },
        "id": "IUbp1iMmb9wG",
        "outputId": "ff81da45-d320-4f8a-a348-f7a59f653954"
      },
      "execution_count": 146,
      "outputs": [
        {
          "output_type": "execute_result",
          "data": {
            "text/plain": [
              "                                      film adi  \\\n",
              "0                                       Bergen   \n",
              "1                                Kirpi Sonic 2   \n",
              "2  Fantastik Canavarlar: Dumbledore'un Sırları   \n",
              "3                               Aykut Enişte 2   \n",
              "4                                      Morbius   \n",
              "\n",
              "                                    ozet ve detaylar  \\\n",
              "0  Arabeskin unutulmayan kadın seslerinden biri o...   \n",
              "1  Çocuk filmi \\n\\n\\nKirpi Sonic filminin devam h...   \n",
              "2  Karanlık büyücü Gellert Grindelwald, büyücülük...   \n",
              "3  Aykut Enişte 2, sevdiği kadınla evlilik arifes...   \n",
              "4  Morbius, hastalığına deva bulmaya çalışırken b...   \n",
              "\n",
              "                                  tur  \\\n",
              "0              ['Dram', 'Biyografik']   \n",
              "1     ['Animasyon', 'Aile', 'Macera']   \n",
              "2             ['Fantastik', 'Macera']   \n",
              "3                          ['Komedi']   \n",
              "4  ['Aksiyon', 'Fantastik', 'Macera']   \n",
              "\n",
              "                                           oyuncular  \\\n",
              "0  ['Farah Zeynep Abdullah', 'Erdal Beşikçioğlu',...   \n",
              "1              ['Jim Carrey', 'James Marsden', None]   \n",
              "2   ['Eddie Redmayne', 'Jude Law', 'Mads Mikkelsen']   \n",
              "3  ['Cem Gelinoğlu', 'Melis Babadağ', 'Hakan Yılm...   \n",
              "4  ['Jared Leto', 'Matt Smith (XI)', 'Adria Arjona']   \n",
              "\n",
              "                          yonetmen  vizyon tarihi     sure  \\\n",
              "0  ['Mehmet Binay', 'Caner Alper']    4 Mart 2022  2s 26dk   \n",
              "1                  ['Jeff Fowler']   8 Nisan 2022   2s 2dk   \n",
              "2                  ['David Yates']  15 Nisan 2022  2s 22dk   \n",
              "3                ['Onur Bilgetay']  3 Aralık 2021  1s 55dk   \n",
              "4              ['Daniel Espinosa']   1 Nisan 2022  1s 45dk   \n",
              "\n",
              "                                               clean  \n",
              "0  arabesk unutmak kadın ses o Bergen inmek hayat...  \n",
              "1  çocuk film kirpi Sonic film deva halka o yapım...  \n",
              "2  Karanlık büyü Gellert Grindelwald büyü Dünya k...  \n",
              "3  Aykut enişte 2 sevmek kadın ev arife kendi tür...  \n",
              "4  Morbius hastalık deva bulmak Çalışır bambaşka ...  "
            ],
            "text/html": [
              "\n",
              "  <div id=\"df-fa946d62-8a45-4d60-991e-930bae59b24d\">\n",
              "    <div class=\"colab-df-container\">\n",
              "      <div>\n",
              "<style scoped>\n",
              "    .dataframe tbody tr th:only-of-type {\n",
              "        vertical-align: middle;\n",
              "    }\n",
              "\n",
              "    .dataframe tbody tr th {\n",
              "        vertical-align: top;\n",
              "    }\n",
              "\n",
              "    .dataframe thead th {\n",
              "        text-align: right;\n",
              "    }\n",
              "</style>\n",
              "<table border=\"1\" class=\"dataframe\">\n",
              "  <thead>\n",
              "    <tr style=\"text-align: right;\">\n",
              "      <th></th>\n",
              "      <th>film adi</th>\n",
              "      <th>ozet ve detaylar</th>\n",
              "      <th>tur</th>\n",
              "      <th>oyuncular</th>\n",
              "      <th>yonetmen</th>\n",
              "      <th>vizyon tarihi</th>\n",
              "      <th>sure</th>\n",
              "      <th>clean</th>\n",
              "    </tr>\n",
              "  </thead>\n",
              "  <tbody>\n",
              "    <tr>\n",
              "      <th>0</th>\n",
              "      <td>Bergen</td>\n",
              "      <td>Arabeskin unutulmayan kadın seslerinden biri o...</td>\n",
              "      <td>['Dram', 'Biyografik']</td>\n",
              "      <td>['Farah Zeynep Abdullah', 'Erdal Beşikçioğlu',...</td>\n",
              "      <td>['Mehmet Binay', 'Caner Alper']</td>\n",
              "      <td>4 Mart 2022</td>\n",
              "      <td>2s 26dk</td>\n",
              "      <td>arabesk unutmak kadın ses o Bergen inmek hayat...</td>\n",
              "    </tr>\n",
              "    <tr>\n",
              "      <th>1</th>\n",
              "      <td>Kirpi Sonic 2</td>\n",
              "      <td>Çocuk filmi \\n\\n\\nKirpi Sonic filminin devam h...</td>\n",
              "      <td>['Animasyon', 'Aile', 'Macera']</td>\n",
              "      <td>['Jim Carrey', 'James Marsden', None]</td>\n",
              "      <td>['Jeff Fowler']</td>\n",
              "      <td>8 Nisan 2022</td>\n",
              "      <td>2s 2dk</td>\n",
              "      <td>çocuk film kirpi Sonic film deva halka o yapım...</td>\n",
              "    </tr>\n",
              "    <tr>\n",
              "      <th>2</th>\n",
              "      <td>Fantastik Canavarlar: Dumbledore'un Sırları</td>\n",
              "      <td>Karanlık büyücü Gellert Grindelwald, büyücülük...</td>\n",
              "      <td>['Fantastik', 'Macera']</td>\n",
              "      <td>['Eddie Redmayne', 'Jude Law', 'Mads Mikkelsen']</td>\n",
              "      <td>['David Yates']</td>\n",
              "      <td>15 Nisan 2022</td>\n",
              "      <td>2s 22dk</td>\n",
              "      <td>Karanlık büyü Gellert Grindelwald büyü Dünya k...</td>\n",
              "    </tr>\n",
              "    <tr>\n",
              "      <th>3</th>\n",
              "      <td>Aykut Enişte 2</td>\n",
              "      <td>Aykut Enişte 2, sevdiği kadınla evlilik arifes...</td>\n",
              "      <td>['Komedi']</td>\n",
              "      <td>['Cem Gelinoğlu', 'Melis Babadağ', 'Hakan Yılm...</td>\n",
              "      <td>['Onur Bilgetay']</td>\n",
              "      <td>3 Aralık 2021</td>\n",
              "      <td>1s 55dk</td>\n",
              "      <td>Aykut enişte 2 sevmek kadın ev arife kendi tür...</td>\n",
              "    </tr>\n",
              "    <tr>\n",
              "      <th>4</th>\n",
              "      <td>Morbius</td>\n",
              "      <td>Morbius, hastalığına deva bulmaya çalışırken b...</td>\n",
              "      <td>['Aksiyon', 'Fantastik', 'Macera']</td>\n",
              "      <td>['Jared Leto', 'Matt Smith (XI)', 'Adria Arjona']</td>\n",
              "      <td>['Daniel Espinosa']</td>\n",
              "      <td>1 Nisan 2022</td>\n",
              "      <td>1s 45dk</td>\n",
              "      <td>Morbius hastalık deva bulmak Çalışır bambaşka ...</td>\n",
              "    </tr>\n",
              "  </tbody>\n",
              "</table>\n",
              "</div>\n",
              "      <button class=\"colab-df-convert\" onclick=\"convertToInteractive('df-fa946d62-8a45-4d60-991e-930bae59b24d')\"\n",
              "              title=\"Convert this dataframe to an interactive table.\"\n",
              "              style=\"display:none;\">\n",
              "        \n",
              "  <svg xmlns=\"http://www.w3.org/2000/svg\" height=\"24px\"viewBox=\"0 0 24 24\"\n",
              "       width=\"24px\">\n",
              "    <path d=\"M0 0h24v24H0V0z\" fill=\"none\"/>\n",
              "    <path d=\"M18.56 5.44l.94 2.06.94-2.06 2.06-.94-2.06-.94-.94-2.06-.94 2.06-2.06.94zm-11 1L8.5 8.5l.94-2.06 2.06-.94-2.06-.94L8.5 2.5l-.94 2.06-2.06.94zm10 10l.94 2.06.94-2.06 2.06-.94-2.06-.94-.94-2.06-.94 2.06-2.06.94z\"/><path d=\"M17.41 7.96l-1.37-1.37c-.4-.4-.92-.59-1.43-.59-.52 0-1.04.2-1.43.59L10.3 9.45l-7.72 7.72c-.78.78-.78 2.05 0 2.83L4 21.41c.39.39.9.59 1.41.59.51 0 1.02-.2 1.41-.59l7.78-7.78 2.81-2.81c.8-.78.8-2.07 0-2.86zM5.41 20L4 18.59l7.72-7.72 1.47 1.35L5.41 20z\"/>\n",
              "  </svg>\n",
              "      </button>\n",
              "      \n",
              "  <style>\n",
              "    .colab-df-container {\n",
              "      display:flex;\n",
              "      flex-wrap:wrap;\n",
              "      gap: 12px;\n",
              "    }\n",
              "\n",
              "    .colab-df-convert {\n",
              "      background-color: #E8F0FE;\n",
              "      border: none;\n",
              "      border-radius: 50%;\n",
              "      cursor: pointer;\n",
              "      display: none;\n",
              "      fill: #1967D2;\n",
              "      height: 32px;\n",
              "      padding: 0 0 0 0;\n",
              "      width: 32px;\n",
              "    }\n",
              "\n",
              "    .colab-df-convert:hover {\n",
              "      background-color: #E2EBFA;\n",
              "      box-shadow: 0px 1px 2px rgba(60, 64, 67, 0.3), 0px 1px 3px 1px rgba(60, 64, 67, 0.15);\n",
              "      fill: #174EA6;\n",
              "    }\n",
              "\n",
              "    [theme=dark] .colab-df-convert {\n",
              "      background-color: #3B4455;\n",
              "      fill: #D2E3FC;\n",
              "    }\n",
              "\n",
              "    [theme=dark] .colab-df-convert:hover {\n",
              "      background-color: #434B5C;\n",
              "      box-shadow: 0px 1px 3px 1px rgba(0, 0, 0, 0.15);\n",
              "      filter: drop-shadow(0px 1px 2px rgba(0, 0, 0, 0.3));\n",
              "      fill: #FFFFFF;\n",
              "    }\n",
              "  </style>\n",
              "\n",
              "      <script>\n",
              "        const buttonEl =\n",
              "          document.querySelector('#df-fa946d62-8a45-4d60-991e-930bae59b24d button.colab-df-convert');\n",
              "        buttonEl.style.display =\n",
              "          google.colab.kernel.accessAllowed ? 'block' : 'none';\n",
              "\n",
              "        async function convertToInteractive(key) {\n",
              "          const element = document.querySelector('#df-fa946d62-8a45-4d60-991e-930bae59b24d');\n",
              "          const dataTable =\n",
              "            await google.colab.kernel.invokeFunction('convertToInteractive',\n",
              "                                                     [key], {});\n",
              "          if (!dataTable) return;\n",
              "\n",
              "          const docLinkHtml = 'Like what you see? Visit the ' +\n",
              "            '<a target=\"_blank\" href=https://colab.research.google.com/notebooks/data_table.ipynb>data table notebook</a>'\n",
              "            + ' to learn more about interactive tables.';\n",
              "          element.innerHTML = '';\n",
              "          dataTable['output_type'] = 'display_data';\n",
              "          await google.colab.output.renderOutput(dataTable, element);\n",
              "          const docLink = document.createElement('div');\n",
              "          docLink.innerHTML = docLinkHtml;\n",
              "          element.appendChild(docLink);\n",
              "        }\n",
              "      </script>\n",
              "    </div>\n",
              "  </div>\n",
              "  "
            ]
          },
          "metadata": {},
          "execution_count": 146
        }
      ]
    },
    {
      "cell_type": "code",
      "source": [
        "clean = df_diskten[\"clean\"]\n",
        "len(clean)"
      ],
      "metadata": {
        "colab": {
          "base_uri": "https://localhost:8080/"
        },
        "id": "cl_X9ZCicQcJ",
        "outputId": "c869e9b5-7c86-47e5-bbb2-4202383eab15"
      },
      "execution_count": 148,
      "outputs": [
        {
          "output_type": "execute_result",
          "data": {
            "text/plain": [
              "5261"
            ]
          },
          "metadata": {},
          "execution_count": 148
        }
      ]
    },
    {
      "cell_type": "code",
      "source": [
        "kelime2index = {}\n",
        "index2kelime = {}"
      ],
      "metadata": {
        "id": "QcKkOGU2Mg_3"
      },
      "execution_count": 105,
      "outputs": []
    },
    {
      "cell_type": "code",
      "source": [
        "data_set = df_diskten[\"clean\"]\n",
        "lwr_ds=[x.lower() for x in data_set] #bütün kelimeleri küçük harfe çeviriyorum\n",
        "clean_col=[re.sub(r'\\b\\w{1,2}\\b', '', m) for m in lwr_ds] #uzunluğu 1 ve 2 olan kelimeleri siliyorum"
      ],
      "metadata": {
        "id": "xi-w9WrAMjIS"
      },
      "execution_count": 106,
      "outputs": []
    },
    {
      "cell_type": "code",
      "source": [
        "i = 0\n",
        "for cell in clean_col:\n",
        "    \n",
        "    words = cell.split()\n",
        "    \n",
        "    \n",
        "    for word in words: #burada içerisinde bütün kelimelerin olduğu bir sözlük oluşturuluyor\n",
        "        if word in kelime2index:\n",
        "            continue\n",
        "        kelime2index[word] = i\n",
        "        index2kelime[i] = word\n",
        "        i += 1\n"
      ],
      "metadata": {
        "id": "2pgFIinVMmGA"
      },
      "execution_count": 107,
      "outputs": []
    },
    {
      "cell_type": "code",
      "source": [
        "film_sayisi = len(clean_col)\n",
        "vocab_size = len(kelime2index)\n",
        "filmler = np.zeros((film_sayisi, vocab_size)) "
      ],
      "metadata": {
        "id": "RbdzofAfMoFk"
      },
      "execution_count": 108,
      "outputs": []
    },
    {
      "cell_type": "code",
      "source": [
        "for i, cell in enumerate(clean_col): #hangi kelimenin hangi filmde kaç kere geçtiğini filmler matrisine yazıyor\n",
        "    words = cell.split()\n",
        "    for word in words:\n",
        "        wordIndex = kelime2index[word]\n",
        "        filmler[i][wordIndex] += 1\n"
      ],
      "metadata": {
        "id": "fgeIBW5IMrSB"
      },
      "execution_count": 109,
      "outputs": []
    },
    {
      "cell_type": "code",
      "source": [
        "df_deleted=[] \n",
        "doc_frequencies = {}\n",
        "l=0\n",
        "for key,word in enumerate(kelime2index):  #belge sıklığı hesaplanıyor yani bir kelimenin kaç farklı filmde geçtiği\n",
        "    doc_count = 0\n",
        "    for film in clean_col:\n",
        "        if word in film:\n",
        "            doc_count += 1\n",
        "    if(doc_count<(len(clean_col)/2)): #eğer doc frekansı film sayısının yarısından büyükse bunu stopwords olarak sayıp bu kelimeleri eliyorum\n",
        "        doc_frequencies[word] = doc_count\n",
        "    else:\n",
        "        df_deleted.append(word) #eğer stopwords ise doc frekansını 0 yapıp df_deleted listesine ekle\n",
        "        doc_frequencies[word]=0\n",
        "        for l in range(film_sayisi): #stopwordlere filmler matrisinde 0 değerini veriyorum\n",
        "            filmler[l][key-1]=0\n",
        "        \n"
      ],
      "metadata": {
        "id": "g1Dk2YNfMu03"
      },
      "execution_count": 110,
      "outputs": []
    },
    {
      "cell_type": "code",
      "source": [
        "sorted_frequencies = sorted(doc_frequencies, key=doc_frequencies.get, reverse=True)"
      ],
      "metadata": {
        "id": "h_PEP58pNSov"
      },
      "execution_count": 111,
      "outputs": []
    },
    {
      "cell_type": "code",
      "source": [
        "for word in sorted_frequencies[:10]:\n",
        "    print(word, doc_frequencies[word])"
      ],
      "metadata": {
        "colab": {
          "base_uri": "https://localhost:8080/"
        },
        "id": "leQkVnLicgll",
        "outputId": "42f27c94-1cb8-41fa-8e43-6ddb522083a0"
      },
      "execution_count": 149,
      "outputs": [
        {
          "output_type": "stream",
          "name": "stdout",
          "text": [
            "end 2552\n",
            "yap 2497\n",
            "yön 2489\n",
            "yat 2456\n",
            "yan 2406\n",
            "dram 2357\n",
            "ile 2331\n",
            "kendi 2316\n",
            "ark 2274\n",
            "hayat 2244\n"
          ]
        }
      ]
    },
    {
      "cell_type": "code",
      "source": [
        "filmler_tf_idf = np.zeros((film_sayisi, vocab_size))"
      ],
      "metadata": {
        "id": "FnS7Nb-eNT_P"
      },
      "execution_count": 112,
      "outputs": []
    },
    {
      "cell_type": "code",
      "source": [
        "kelime_sayaci=0     \n",
        "film_kelime_sayaci=[] \n",
        "#Her film için dökümanının içerisinde kaç kelime olduğunu buluyorum. Bunu yapma sebebim kelimenin dökümanda geçme sayısını,dökümandaki toplam kelime sayısına bölerek tf değerini bulmak\n",
        "for x,film in enumerate(filmler):\n",
        "    for y,tf in enumerate(film):\n",
        "        kelime_sayaci=kelime_sayaci+filmler[x][y]\n",
        "    film_kelime_sayaci.append(kelime_sayaci)\n",
        "    kelime_sayaci=0\n",
        "        "
      ],
      "metadata": {
        "id": "sm3EJH4Bje_P"
      },
      "execution_count": 113,
      "outputs": []
    },
    {
      "cell_type": "code",
      "source": [
        "for i, film in enumerate(filmler):\n",
        "    if i % 1000 == 0:\n",
        "        print(f\"{i} inci film işleniyor...\")\n",
        "    for j, z in enumerate(film):\n",
        "        idf = 0\n",
        "        tf=z/film_kelime_sayaci[i] #kelimenin dökümanda geçme sayısını, o dökümandaki toplam kelime sayısına bölerek tf değerini buluyorum\n",
        "        if tf > 0:\n",
        "            \n",
        "            try:\n",
        "              idf = np.log(film_sayisi  / (doc_frequencies[index2kelime[j]] )) #idf değeri hesaplanıyor yani df değerinin logaritması alınıyor\n",
        "            except ZeroDivisionError:\n",
        "              idf = 0\n",
        "        tf_idf_score = tf * idf  #idf ve tf değerleri çarpılarak filmler_tf_idf matrisi oluşturuluyor bu matriste her kelimenin bir skoru oluyor\n",
        "        filmler_tf_idf[i][j] = tf_idf_score\n",
        "\n"
      ],
      "metadata": {
        "colab": {
          "base_uri": "https://localhost:8080/"
        },
        "id": "edojeTkJNW7U",
        "outputId": "831945bf-b363-4feb-b14c-b5692ab806d2"
      },
      "execution_count": 130,
      "outputs": [
        {
          "output_type": "stream",
          "name": "stdout",
          "text": [
            "0 inci film işleniyor...\n",
            "1000 inci film işleniyor...\n",
            "2000 inci film işleniyor...\n",
            "3000 inci film işleniyor...\n",
            "4000 inci film işleniyor...\n",
            "5000 inci film işleniyor...\n"
          ]
        }
      ]
    },
    {
      "cell_type": "code",
      "source": [
        "def cos_sim(v1, v2):\n",
        "    return np.dot(v1, v2) / (np.linalg.norm(v1) * np.linalg.norm(v2))"
      ],
      "metadata": {
        "id": "VKhv9SpOOhMN"
      },
      "execution_count": 131,
      "outputs": []
    },
    {
      "cell_type": "code",
      "source": [
        "def film_2_str(row_index):\n",
        "    film = df_diskten.iloc[row_index]\n",
        "    adi = film['film adi']\n",
        "    turu = film['tur']\n",
        "    ozet = film['ozet ve detaylar']\n",
        "    if len(ozet) > 150:\n",
        "        ozet = ozet[:150] + \"...\"\n",
        "\n",
        "    return f\"Film adı: {adi} \\nTürü: {turu} \\nÖzeti: {ozet}\"\n"
      ],
      "metadata": {
        "id": "_4GjKZzyOihm"
      },
      "execution_count": 132,
      "outputs": []
    },
    {
      "cell_type": "code",
      "source": [
        "print(film_2_str(50))"
      ],
      "metadata": {
        "colab": {
          "base_uri": "https://localhost:8080/"
        },
        "id": "sAtwnlQLdizR",
        "outputId": "d0bb815b-8a0d-447a-d347-c9caf224d4b8"
      },
      "execution_count": 161,
      "outputs": [
        {
          "output_type": "stream",
          "name": "stdout",
          "text": [
            "Film adı: Zindan Adası \n",
            "Türü: ['Gerilim'] \n",
            "Özeti: Zindan Adası, Martin Scorsese'nin bir çok filmi gibi yine bir başyapıt statüsünde. Filmde, Teddy Daniels ve Chuck Aule isimli iki polis memurunun, Rac...\n"
          ]
        }
      ]
    },
    {
      "cell_type": "code",
      "source": [
        "def most_similar_films(film_adi, benzer_film_sayisi):\n",
        "    film_indexi = df_diskten[df_diskten[\"film adi\"] == film_adi].index[0]\n",
        "    print(\"Aranan Film:\")\n",
        "    print(film_2_str(film_indexi))\n",
        "    print()\n",
        "    print(\"* \" * 30)\n",
        "    print()\n",
        "\n",
        "    benzerlikler = []\n",
        "    sorgu_film = filmler_tf_idf[film_indexi]\n",
        "    for vec in filmler_tf_idf:\n",
        "        benzerlik = cos_sim(sorgu_film, vec)\n",
        "        benzerlikler.append(benzerlik)\n",
        "    \n",
        "    en_benzer_film_indexleri = (- np.array(benzerlikler)).argsort()[:benzer_film_sayisi + 1]\n",
        "    print(\"Benzer Filmler:\\n\")\n",
        "    for i, film_idx in enumerate(en_benzer_film_indexleri[1:]):\n",
        "        print(str(i+1) + \") \" + film_2_str(film_idx))\n",
        "        print()\n",
        "        print(\"- \" * 20)\n",
        "        print()"
      ],
      "metadata": {
        "id": "qqDr7Ba4OnPv"
      },
      "execution_count": 133,
      "outputs": []
    },
    {
      "cell_type": "code",
      "source": [
        "most_similar_films(\"Hızlı ve Öfkeli\", 5)"
      ],
      "metadata": {
        "colab": {
          "base_uri": "https://localhost:8080/"
        },
        "id": "7MWLED0OOqtB",
        "outputId": "e7d4f8c6-1bea-4782-b828-3e5b957bc8f1"
      },
      "execution_count": 144,
      "outputs": [
        {
          "output_type": "stream",
          "name": "stdout",
          "text": [
            "Aranan Film:\n",
            "Film adı: Hızlı ve Öfkeli \n",
            "Türü: ['Aksiyon', 'Polisiye'] \n",
            "Özeti: Hızlı ve Öfkeli'de Domenic Toretto, arabaların pahalı aksesuarlarını çalan bir çetenin baş üyesidir. Çok değerli elektronik ekipmanların çalınmış olma...\n",
            "\n",
            "* * * * * * * * * * * * * * * * * * * * * * * * * * * * * * \n",
            "\n",
            "Benzer Filmler:\n",
            "\n",
            "1) Film adı: Hızlı ve Öfkeli 9 \n",
            "Türü: ['Aksiyon'] \n",
            "Özeti: Hızlı ve Öfkeli 9, geçmişinden gelen bir tehdide karşı mücadele etmek zorunda kalan Dom ve ekibinin hikayesini konu ediyor. Dominic Toretto’nun artık ...\n",
            "\n",
            "- - - - - - - - - - - - - - - - - - - - \n",
            "\n",
            "2) Film adı: Hızlı ve Öfkeli 5: Rio Soygunu \n",
            "Türü: ['Aksiyon', 'Gerilim'] \n",
            "Özeti: 2001'de başladığından beri devamını getirmek konusunda hızı ve öfkesi dinmeyen seri 'Hızlı ve Öfkeli'nin ekibe tekrar katılan Dwayne Johnson'lı son ma...\n",
            "\n",
            "- - - - - - - - - - - - - - - - - - - - \n",
            "\n",
            "3) Film adı: Hızlı ve Öfkeli 4 \n",
            "Türü: ['Aksiyon'] \n",
            "Özeti: Hızlı ve Öfkeli 4'te düzenbazlıktan \"emekli\" Dominic Toretto'nun (Vin Diesel) Meksika sınırını aşıp orada adeta bir mülteci gibi yaşamaya kalkışmasını...\n",
            "\n",
            "- - - - - - - - - - - - - - - - - - - - \n",
            "\n",
            "4) Film adı: Hızlı ve Öfkeli 7 \n",
            "Türü: ['Aksiyon'] \n",
            "Özeti: Hız, güzel arabalar, soygun, dostluk, ihanet ve sadakat temaları üzerine kurulmuş, fenomenleşen film serisinin son halkasında Vin Diesel, Dwayne Johns...\n",
            "\n",
            "- - - - - - - - - - - - - - - - - - - - \n",
            "\n",
            "5) Film adı: Hızlı ve Öfkeli 8 \n",
            "Türü: ['Aksiyon', 'Gerilim'] \n",
            "Özeti: Suça bulaşmış olan ekip artık sakinleşmiş ve suçtan uzak bir hayat yaşamak istediklerine karar vermişlerdir. Dom ve Letty evlenip balayına giderlerken...\n",
            "\n",
            "- - - - - - - - - - - - - - - - - - - - \n",
            "\n"
          ]
        }
      ]
    }
  ]
}